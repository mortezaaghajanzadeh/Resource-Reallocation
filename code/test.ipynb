{
 "cells": [
  {
   "cell_type": "code",
   "execution_count": 1,
   "id": "32f71867",
   "metadata": {},
   "outputs": [],
   "source": [
    "# set the path\n",
    "path = r\"doc/summer paper/\"\n",
    "fig_path = path + \"Figures/\"\n",
    "table_path = path + \"Tables/\"\n",
    "from functions import *"
   ]
  },
  {
   "cell_type": "markdown",
   "id": "b4dc6f21",
   "metadata": {},
   "source": [
    "$$ z_k = \\frac{G}{B} = \\left(\\frac{\\alpha}{1-\\alpha}\\frac{r^B}{r^G}\\right)^{\\gamma_s}$$\n",
    "$$ z_l = \\frac{L}{K} =  \\frac{1-\\beta}{\\beta} \\frac{1}{\\alpha}(\\alpha_s + (1-\\alpha_s) z_k^{-\\frac{\\gamma_s-1}{\\gamma_s}})^{\\frac{1}{\\gamma_s-1}} \\frac{r^G}{W} $$\n"
   ]
  },
  {
   "cell_type": "markdown",
   "id": "3f89a920",
   "metadata": {},
   "source": [
    "$$\n",
    "\\frac{\\tilde{A}}{r^B + \\tau_E\\tilde{A}}\\left[\n",
    "            -\\frac{\\gamma\\alpha}{\\circ} \n",
    "            - (\\dfrac{w}{\\frac{r}{z_l} + w})\\frac{1-\\alpha}{\\triangle}\n",
    "            \\right]\n",
    "$$"
   ]
  },
  {
   "cell_type": "code",
   "execution_count": 2,
   "id": "006fb5c0",
   "metadata": {},
   "outputs": [],
   "source": [
    "\n",
    "def gen_df(params,τ_E):\n",
    "    params_0 = params.copy()\n",
    "    params_0['τ_E'] = τ_E \n",
    "    params_1 = params_0.copy()\n",
    "    res_1 = ratios_gen(params_1)\n",
    "    res_1 = res_1.__add__((res_1[6] *params_1['A_tilde'], ))\n",
    "    params_2 = params_0.copy()\n",
    "    params_2['A_hat'] = params_2['A_hat'] * 0.8\n",
    "    params_2['A_tilde'] = params_2['A_tilde'] * 1.2\n",
    "    res_2 = ratios_gen(params_2)\n",
    "    res_2 = res_2.__add__((res_2[6] *params_2['A_tilde'], ))\n",
    "    # put the results into a dataframe\n",
    "    df = pd.DataFrame([res_1,res_2],columns=['z_k','z_l','l','y','p','g','b','e'])\n",
    "    df['income'] = (df.y * df.p).round(2)\n",
    "    df['intensity'] = df.e / df.y / df.p * 1e3\n",
    "    \n",
    "    # add sum row\n",
    "    df.loc['sum'] = np.nan\n",
    "    df.loc['sum','l']= df.l.sum()\n",
    "    df.loc['sum','g']= df.g.sum()\n",
    "    df.loc['sum','b']= df.b.sum()\n",
    "    df.loc['sum','e']= df.e.sum()\n",
    "    df.loc['sum','income']= df.income.sum()\n",
    "    p_s = 0\n",
    "    y_s = 0\n",
    "    for i in [res_1,res_2]:\n",
    "        p_s += i[4] ** (1-params_0['σ'])\n",
    "        y_s += i[3] ** ((params_0['σ']-1)/(params_0['σ']))\n",
    "    p_s = p_s ** (1/(1-params_0['σ']))\n",
    "    y_s = y_s ** (params_0['σ']/(params_0['σ']-1))\n",
    "    df.loc['sum','p'] = p_s\n",
    "    # df.p = df.p/p_s\n",
    "    df.loc['sum','y'] = y_s\n",
    "    return df"
   ]
  },
  {
   "cell_type": "code",
   "execution_count": 24,
   "id": "5190f8dd",
   "metadata": {},
   "outputs": [
    {
     "name": "stdout",
     "output_type": "stream",
     "text": [
      "0.1128922682379242 0.08679996337487939\n"
     ]
    },
    {
     "data": {
      "text/html": [
       "<div>\n",
       "<style scoped>\n",
       "    .dataframe tbody tr th:only-of-type {\n",
       "        vertical-align: middle;\n",
       "    }\n",
       "\n",
       "    .dataframe tbody tr th {\n",
       "        vertical-align: top;\n",
       "    }\n",
       "\n",
       "    .dataframe thead th {\n",
       "        text-align: right;\n",
       "    }\n",
       "</style>\n",
       "<table border=\"1\" class=\"dataframe\">\n",
       "  <thead>\n",
       "    <tr style=\"text-align: right;\">\n",
       "      <th></th>\n",
       "      <th></th>\n",
       "      <th>z_k</th>\n",
       "      <th>z_l</th>\n",
       "      <th>l</th>\n",
       "      <th>y</th>\n",
       "      <th>p</th>\n",
       "      <th>g</th>\n",
       "      <th>b</th>\n",
       "      <th>e</th>\n",
       "      <th>income</th>\n",
       "      <th>intensity</th>\n",
       "    </tr>\n",
       "  </thead>\n",
       "  <tbody>\n",
       "    <tr>\n",
       "      <th rowspan=\"3\" valign=\"top\">τ_E = 0</th>\n",
       "      <th>0</th>\n",
       "      <td>0.058753</td>\n",
       "      <td>0.102856</td>\n",
       "      <td>0.230674</td>\n",
       "      <td>32.411526</td>\n",
       "      <td>0.725764</td>\n",
       "      <td>0.012531</td>\n",
       "      <td>0.213290</td>\n",
       "      <td>0.000427</td>\n",
       "      <td>23.52</td>\n",
       "      <td>0.018135</td>\n",
       "    </tr>\n",
       "    <tr>\n",
       "      <th>1</th>\n",
       "      <td>0.058753</td>\n",
       "      <td>0.102856</td>\n",
       "      <td>0.094484</td>\n",
       "      <td>10.620609</td>\n",
       "      <td>0.907205</td>\n",
       "      <td>0.005133</td>\n",
       "      <td>0.087364</td>\n",
       "      <td>0.000210</td>\n",
       "      <td>9.64</td>\n",
       "      <td>0.021761</td>\n",
       "    </tr>\n",
       "    <tr>\n",
       "      <th>sum</th>\n",
       "      <td>NaN</td>\n",
       "      <td>NaN</td>\n",
       "      <td>0.325158</td>\n",
       "      <td>49.781657</td>\n",
       "      <td>0.666072</td>\n",
       "      <td>0.017664</td>\n",
       "      <td>0.300654</td>\n",
       "      <td>0.000636</td>\n",
       "      <td>33.16</td>\n",
       "      <td>NaN</td>\n",
       "    </tr>\n",
       "    <tr>\n",
       "      <th rowspan=\"3\" valign=\"top\">τ_E = 100.0</th>\n",
       "      <th>0</th>\n",
       "      <td>0.059361</td>\n",
       "      <td>0.103245</td>\n",
       "      <td>0.228596</td>\n",
       "      <td>32.192336</td>\n",
       "      <td>0.727407</td>\n",
       "      <td>0.012549</td>\n",
       "      <td>0.211408</td>\n",
       "      <td>0.000423</td>\n",
       "      <td>23.42</td>\n",
       "      <td>0.018056</td>\n",
       "    </tr>\n",
       "    <tr>\n",
       "      <th>1</th>\n",
       "      <td>0.059483</td>\n",
       "      <td>0.103322</td>\n",
       "      <td>0.093464</td>\n",
       "      <td>10.534515</td>\n",
       "      <td>0.909669</td>\n",
       "      <td>0.005142</td>\n",
       "      <td>0.086440</td>\n",
       "      <td>0.000207</td>\n",
       "      <td>9.58</td>\n",
       "      <td>0.021648</td>\n",
       "    </tr>\n",
       "    <tr>\n",
       "      <th>sum</th>\n",
       "      <td>NaN</td>\n",
       "      <td>NaN</td>\n",
       "      <td>0.322061</td>\n",
       "      <td>49.425560</td>\n",
       "      <td>0.667668</td>\n",
       "      <td>0.017691</td>\n",
       "      <td>0.297847</td>\n",
       "      <td>0.000630</td>\n",
       "      <td>33.00</td>\n",
       "      <td>NaN</td>\n",
       "    </tr>\n",
       "    <tr>\n",
       "      <th rowspan=\"3\" valign=\"top\">τ_E = 1300.0</th>\n",
       "      <th>0</th>\n",
       "      <td>0.066962</td>\n",
       "      <td>0.107889</td>\n",
       "      <td>0.205687</td>\n",
       "      <td>29.740989</td>\n",
       "      <td>0.746867</td>\n",
       "      <td>0.012761</td>\n",
       "      <td>0.190570</td>\n",
       "      <td>0.000381</td>\n",
       "      <td>22.21</td>\n",
       "      <td>0.017159</td>\n",
       "    </tr>\n",
       "    <tr>\n",
       "      <th>1</th>\n",
       "      <td>0.068683</td>\n",
       "      <td>0.108891</td>\n",
       "      <td>0.082401</td>\n",
       "      <td>9.584705</td>\n",
       "      <td>0.938776</td>\n",
       "      <td>0.005245</td>\n",
       "      <td>0.076369</td>\n",
       "      <td>0.000183</td>\n",
       "      <td>9.00</td>\n",
       "      <td>0.020370</td>\n",
       "    </tr>\n",
       "    <tr>\n",
       "      <th>sum</th>\n",
       "      <td>NaN</td>\n",
       "      <td>NaN</td>\n",
       "      <td>0.288088</td>\n",
       "      <td>45.460611</td>\n",
       "      <td>0.686537</td>\n",
       "      <td>0.018006</td>\n",
       "      <td>0.266939</td>\n",
       "      <td>0.000564</td>\n",
       "      <td>31.21</td>\n",
       "      <td>NaN</td>\n",
       "    </tr>\n",
       "  </tbody>\n",
       "</table>\n",
       "</div>"
      ],
      "text/plain": [
       "                       z_k       z_l         l          y         p         g  \\\n",
       "τ_E = 0      0    0.058753  0.102856  0.230674  32.411526  0.725764  0.012531   \n",
       "             1    0.058753  0.102856  0.094484  10.620609  0.907205  0.005133   \n",
       "             sum       NaN       NaN  0.325158  49.781657  0.666072  0.017664   \n",
       "τ_E = 100.0  0    0.059361  0.103245  0.228596  32.192336  0.727407  0.012549   \n",
       "             1    0.059483  0.103322  0.093464  10.534515  0.909669  0.005142   \n",
       "             sum       NaN       NaN  0.322061  49.425560  0.667668  0.017691   \n",
       "τ_E = 1300.0 0    0.066962  0.107889  0.205687  29.740989  0.746867  0.012761   \n",
       "             1    0.068683  0.108891  0.082401   9.584705  0.938776  0.005245   \n",
       "             sum       NaN       NaN  0.288088  45.460611  0.686537  0.018006   \n",
       "\n",
       "                         b         e  income  intensity  \n",
       "τ_E = 0      0    0.213290  0.000427   23.52   0.018135  \n",
       "             1    0.087364  0.000210    9.64   0.021761  \n",
       "             sum  0.300654  0.000636   33.16        NaN  \n",
       "τ_E = 100.0  0    0.211408  0.000423   23.42   0.018056  \n",
       "             1    0.086440  0.000207    9.58   0.021648  \n",
       "             sum  0.297847  0.000630   33.00        NaN  \n",
       "τ_E = 1300.0 0    0.190570  0.000381   22.21   0.017159  \n",
       "             1    0.076369  0.000183    9.00   0.020370  \n",
       "             sum  0.266939  0.000564   31.21        NaN  "
      ]
     },
     "execution_count": 24,
     "metadata": {},
     "output_type": "execute_result"
    }
   ],
   "source": [
    "parameters = {\n",
    "    'β': 0.6,\n",
    "    'γ':2.58,\n",
    "    'α': 0.25,\n",
    "    'A_hat': 0.55,\n",
    "    'A_tilde': 0.002,\n",
    "    'μ': 0,\n",
    "    'θ': 1,\n",
    "    'η': np.inf,\n",
    "    'σ': 5,\n",
    "    'r_b': 0.05,\n",
    "    'green_premium': 0,\n",
    "    'w': .500, # MSEK\n",
    "    'τ_E': 0,# per ton\n",
    "    'n': int(1e3),\n",
    "    'sd': 0.1,\n",
    "    }\n",
    "\n",
    "# CO2 Emission is 13800 Kton\n",
    "# Labor 500 TSEK\n",
    "\n",
    "tax_1 = 0\n",
    "tax_2 = 100/1\n",
    "tax_3 = 1300/1\n",
    "df = pd.concat([gen_df(parameters,tax_1),gen_df(parameters,tax_2),gen_df(parameters,tax_3)],keys=['τ_E = {}'.format(tax_1),'τ_E = {}'.format(tax_2),'τ_E = {}'.format(tax_3)],axis=0)\n",
    "print(1- df.loc[df.index == ('τ_E = {}'.format(tax_3), 'sum')].e.iloc[0]/ df.loc[df.index == ('τ_E = 0', 'sum')].e.iloc[0] , 1- df.loc[df.index == ('τ_E = {}'.format(tax_3), 'sum')].y.iloc[0]/ df.loc[df.index == ('τ_E = 0', 'sum')].y.iloc[0] )\n",
    "df"
   ]
  },
  {
   "cell_type": "code",
   "execution_count": 27,
   "id": "b7c1e120",
   "metadata": {},
   "outputs": [
    {
     "name": "stdout",
     "output_type": "stream",
     "text": [
      "z_k:  0.0587526098031209 \n",
      "z_l:  0.1028560660227717 \n",
      "price:  0.3628818831792743 \n",
      "labor:  3.690785683751848 \n",
      "output:  1037.168834425908 \n",
      "brown capital  3.4126479148519993 \n",
      "green capital 0.2005019713367337\n",
      "intensity: (KG/SEK)  1.813454797865415e-05\n",
      "intensity:  0.006580698921098921\n",
      "production: (MSEK) 1.037168834425908\n",
      "emission: (ton) 0.0068252958297039985\n",
      "--------------------------------------------------\n",
      "Intensity: (KG/SEK) 0.039784586246480985\n",
      "Emission: (MTon)  0.0009342958576407896\n",
      "Emission/Production: (KG/SEK)  0.0008737147763969138\n",
      "Emission cost:  0.0\n",
      "Green Capital:  12963.756782264129\n",
      "Brown Capital:  220649.88816165784\n",
      "Labor:  238633.30430435285\n",
      "Income (MSEK):  243347.5468165855\n",
      "Cost share:  0.0\n"
     ]
    },
    {
     "data": {
      "image/png": "[encoded data removed]",
      "text/plain": [
       "<Figure size 640x480 with 1 Axes>"
      ]
     },
     "metadata": {},
     "output_type": "display_data"
    },
    {
     "data": {
      "text/plain": [
       "(238.63330430435283, 933.3855750957263)"
      ]
     },
     "execution_count": 27,
     "metadata": {},
     "output_type": "execute_result"
    }
   ],
   "source": [
    "parameters = {\n",
    "    'β': 0.6,\n",
    "    'γ':2.58,\n",
    "    'α': 0.25,\n",
    "    'A_hat':1.1,\n",
    "    'A_tilde': 0.002,\n",
    "    'μ': 0,\n",
    "    'θ': 1,\n",
    "    'η': np.inf,\n",
    "    'σ': 5,\n",
    "    'r_b': 0.05,\n",
    "    'green_premium': 0,\n",
    "    'w': .500, # MSEK\n",
    "    'τ_E': 0,# per ton\n",
    "    'n': int(1e3),\n",
    "    'sd': 0.65,\n",
    "    }\n",
    "z_k,z_l,l,Y,p,g, b = ratios_gen(parameters)\n",
    "print(\"z_k: \",z_k,\"\\nz_l: \",z_l,\"\\nprice: \",p,\"\\nlabor: \",l,\"\\noutput: \",Y,\"\\nbrown capital \",b,\"\\ngreen capital\",g)\n",
    "print(\"intensity: (KG/SEK) \",parameters['A_tilde']*b / p / Y)\n",
    "print(\"intensity: \",function_intensity(parameters['A_tilde'],parameters['A_hat'],parameters['α'],parameters['γ'],z_l,z_k,parameters['β']))\n",
    "print(\"production: (MSEK)\",production_function(parameters['A_hat'],parameters['β'],z_l,l))\n",
    "print(\"emission: (ton)\",function_intensity(parameters['A_tilde'],parameters['A_hat'],parameters['α'],parameters['γ'],z_l,z_k,parameters['β']) * production_function(parameters['A_hat'],parameters['β'],z_l,l))\n",
    "\n",
    "##\n",
    "print(\"-\"*50)\n",
    "##\n",
    "\n",
    "res = simulate_firms(parameters)\n",
    "emission, production, intensity, G_c, B_c,l = res[0],res[1],res[2],res[5],res[6],res[7]\n",
    "income,cost_share = res[8],res[9]\n",
    "emission_cost = res[4]\n",
    "print(\"Intensity: (KG/SEK)\",intensity)\n",
    "print(\"Emission: (MTon) \",emission/1e6)\n",
    "print(\"Emission/Production: (KG/SEK) \",emission/production * 1e3)\n",
    "print(\"Emission cost: \",sum(emission_cost))\n",
    "print(\"Green Capital: \",sum(G_c))\n",
    "print(\"Brown Capital: \",sum(B_c))\n",
    "print(\"Labor: \",sum(l))\n",
    "print(\"Income (MSEK): \",sum(income)/1e2)\n",
    "print(\"Cost share: \",sum(cost_share)/len(cost_share))\n",
    "#hist plot\n",
    "plt.figure()\n",
    "plt.hist(l,bins=100)\n",
    "plt.show()\n",
    "np.array(l).mean(),np.array(l).std()"
   ]
  },
  {
   "cell_type": "code",
   "execution_count": 5,
   "id": "a050487b",
   "metadata": {},
   "outputs": [
    {
     "data": {
      "image/png": "[encoded data removed]",
      "text/plain": [
       "<Figure size 640x480 with 1 Axes>"
      ]
     },
     "metadata": {},
     "output_type": "display_data"
    },
    {
     "data": {
      "text/plain": [
       "(126.82644012852776, 392.9323982595783)"
      ]
     },
     "execution_count": 5,
     "metadata": {},
     "output_type": "execute_result"
    }
   ],
   "source": []
  },
  {
   "cell_type": "code",
   "execution_count": 18,
   "id": "729272fc",
   "metadata": {},
   "outputs": [
    {
     "data": {
      "text/plain": [
       "Text(0.5, 1.0, 'A_tilde distribution')"
      ]
     },
     "execution_count": 18,
     "metadata": {},
     "output_type": "execute_result"
    },
    {
     "data": {
      "image/png": "[encoded data removed]",
      "text/plain": [
       "<Figure size 640x480 with 1 Axes>"
      ]
     },
     "metadata": {},
     "output_type": "display_data"
    }
   ],
   "source": [
    "test = np.random.lognormal(mean=0,sigma=.6,size=1000)\n",
    "A_tilde_vector = (1 + test) * 0.1\n",
    "#hist plot\n",
    "plt.figure()\n",
    "plt.hist(test,bins=100)\n",
    "plt.hist(A_tilde_vector,bins=100)\n",
    "plt.title(\"A_tilde distribution\")\n"
   ]
  },
  {
   "cell_type": "code",
   "execution_count": null,
   "id": "e5cec4bc",
   "metadata": {},
   "outputs": [
    {
     "data": {
      "text/html": [
       "<div>\n",
       "<style scoped>\n",
       "    .dataframe tbody tr th:only-of-type {\n",
       "        vertical-align: middle;\n",
       "    }\n",
       "\n",
       "    .dataframe tbody tr th {\n",
       "        vertical-align: top;\n",
       "    }\n",
       "\n",
       "    .dataframe thead th {\n",
       "        text-align: right;\n",
       "    }\n",
       "</style>\n",
       "<table border=\"1\" class=\"dataframe\">\n",
       "  <thead>\n",
       "    <tr style=\"text-align: right;\">\n",
       "      <th></th>\n",
       "      <th>C_G</th>\n",
       "      <th>C_B</th>\n",
       "      <th>c_L</th>\n",
       "      <th>C_E</th>\n",
       "      <th>P</th>\n",
       "      <th>z_k</th>\n",
       "      <th>z_l</th>\n",
       "    </tr>\n",
       "  </thead>\n",
       "  <tbody>\n",
       "    <tr>\n",
       "      <th>τ_E = 0</th>\n",
       "      <td>0.019583</td>\n",
       "      <td>0.176247</td>\n",
       "      <td>0.130553</td>\n",
       "      <td>0.00000</td>\n",
       "      <td>4.079785</td>\n",
       "      <td>0.111111</td>\n",
       "      <td>0.106667</td>\n",
       "    </tr>\n",
       "    <tr>\n",
       "      <th>τ_E = 100</th>\n",
       "      <td>0.020604</td>\n",
       "      <td>0.172775</td>\n",
       "      <td>0.133066</td>\n",
       "      <td>0.00622</td>\n",
       "      <td>4.158309</td>\n",
       "      <td>0.119255</td>\n",
       "      <td>0.110110</td>\n",
       "    </tr>\n",
       "  </tbody>\n",
       "</table>\n",
       "</div>"
      ],
      "text/plain": [
       "                C_G       C_B       c_L      C_E         P       z_k       z_l\n",
       "τ_E = 0    0.019583  0.176247  0.130553  0.00000  4.079785  0.111111  0.106667\n",
       "τ_E = 100  0.020604  0.172775  0.133066  0.00622  4.158309  0.119255  0.110110"
      ]
     },
     "execution_count": 5,
     "metadata": {},
     "output_type": "execute_result"
    }
   ],
   "source": [
    "τ_E = 100\n",
    "z_k,z_l = optimal_ratios(parameters,τ_E)\n",
    "res1 = function_price(parameters['A_tilde'],parameters['A_hat'],parameters['α'],parameters['γ'],z_l,z_k,parameters['β'],parameters['w'],parameters['green_premium'],parameters['r_b'],parameters['σ'],τ_E,detail=True)\n",
    "res1 = res1 + (z_k,z_l)\n",
    "z_k,z_l = optimal_ratios(parameters,0)\n",
    "res2 = function_price(parameters['A_tilde'],parameters['A_hat'],parameters['α'],parameters['γ'],z_l,z_k,parameters['β'],parameters['w'],parameters['green_premium'],parameters['r_b'],parameters['σ'],0,detail=True)\n",
    "res2 = res2 + (z_k,z_l)\n",
    "df = pd.DataFrame([res2,res1],columns=['C_G','C_B','c_L','C_E','P','z_k','z_l'],index=['τ_E = 0','τ_E = {}'.format(τ_E)])\n",
    "\n",
    "df\n"
   ]
  },
  {
   "cell_type": "code",
   "execution_count": 6,
   "id": "48cbaa92",
   "metadata": {},
   "outputs": [
    {
     "name": "stdout",
     "output_type": "stream",
     "text": [
      "z_k:  0.1111111111111111 \n",
      "z_l:  0.10666666666666669 \n",
      "price:  4.079784843170737 \n",
      "labor:  2.310100814724803\n",
      "intensity: (KG/SEK)  0.6344881388099127\n",
      "production: (MSEK) 0.060318171456707995\n",
      "emission: (ton) 3.827116434398386e-08\n",
      "--------------------------------------------------\n",
      "Intensity: (KG/SEK) 0.8102412939506161\n",
      "Emission: (MTon)  0.07531376745152116\n",
      "Production: (BSek)  1.7699635085094836\n",
      "Emission/Production: (KG/SEK)  0.042551028362694414\n",
      "Emission cost:  0.0\n",
      "Green Capital:  222520.26924543033\n",
      "Brown Capital:  33219672.251065873\n"
     ]
    }
   ],
   "source": []
  },
  {
   "cell_type": "markdown",
   "id": "390a3a3a",
   "metadata": {},
   "source": []
  },
  {
   "cell_type": "code",
   "execution_count": 4,
   "id": "68350e8d",
   "metadata": {},
   "outputs": [
    {
     "data": {
      "image/png": "[encoded data removed]",
      "text/plain": [
       "<Figure size 640x480 with 2 Axes>"
      ]
     },
     "metadata": {},
     "output_type": "display_data"
    }
   ],
   "source": [
    "def price_test(input_0,τ_E):\n",
    "    z_k = function_z_k(input_0['α'],input_0['γ'],input_0['r_b'], input_0['green_premium'],τ_E,input_0['A_tilde'])\n",
    "    z_l = function_z_l(z_k,input_0['β'],input_0['α'],input_0['γ'],input_0['w'],input_0['green_premium'],input_0['r_b'])\n",
    "    p = function_price(input_0['A_tilde'],input_0['A_hat'],input_0['α'],input_0['γ'],z_l,z_k,input_0['β'],input_0['w'],input_0['green_premium'],input_0['r_b'],input_0['σ'],τ_E)\n",
    "    return p,z_k,z_l\n",
    "# print()\n",
    "params_0 = parameters.copy()\n",
    "params_0['σ'] = 5\n",
    "# params_0['γ'] = 1100\n",
    "x_test = []\n",
    "y_test = []\n",
    "k_test = []\n",
    "l_test = []\n",
    "import matplotlib.pyplot as plt\n",
    "\n",
    "for i in np.append(np.logspace(-1,2.5,100), -np.logspace(-1,2,25)):\n",
    "    p,z_k,z_l = price_test(params_0,i*1e2)\n",
    "    if ~np.isnan(p):\n",
    "        x_test.append(i)\n",
    "        y_test.append(p)\n",
    "        k_test.append(z_k)\n",
    "        l_test.append(z_l)\n",
    "# \n",
    "fig, ax1 = plt.subplots()\n",
    "\n",
    "\n",
    "ax1.scatter( x_test,k_test,color='r',label=False)\n",
    "ax1.scatter( x_test,l_test,color='b',label=False)\n",
    "ax2 = ax1.twinx()\n",
    "ax2.scatter( x_test,y_test,color='g',label=False)\n",
    "fig.legend(['z_k','z_l','Price'])\n",
    "plt.show()\n"
   ]
  },
  {
   "cell_type": "code",
   "execution_count": 6,
   "id": "d2615d42",
   "metadata": {},
   "outputs": [
    {
     "data": {
      "text/plain": [
       "-0.19012233408528623"
      ]
     },
     "execution_count": 6,
     "metadata": {},
     "output_type": "execute_result"
    }
   ],
   "source": [
    "def function_coef(A_tilde,α,γ,z_l,z_k,green_premium,r_b,τ_E,w,β):\n",
    "    epsilon_change = A_tilde/(r_b + τ_E/1000 * A_tilde) * (\n",
    "    -γ*α/(function_green_ratio(α,γ,z_k) ** (-((γ-1)/γ))) - (1-α)/(function_green_ratio(α,γ,z_k) ** (-((γ-1)/γ)))/(function_r(α,γ,z_k,green_premium,r_b) /w/z_l) \n",
    "    )\n",
    "    c_change = 1/(τ_E/1000) + epsilon_change\n",
    "    return epsilon_change/c_change \n",
    "parameters_0 = parameters.copy()\n",
    "parameters_0['τ_E'] = 1000\n",
    "parameters_0['γ'] = 2\n",
    "z_k,z_l = optimal_ratios(parameters_0,parameters_0['τ_E'])\n",
    "function_coef(parameters_0['A_tilde'],parameters_0['α'],parameters_0['γ'],z_l,z_k,parameters_0['green_premium'],parameters_0['r_b'],parameters_0['τ_E'],parameters_0['w'],parameters_0['β'])"
   ]
  },
  {
   "cell_type": "code",
   "execution_count": 7,
   "id": "ebdb289a",
   "metadata": {},
   "outputs": [
    {
     "data": {
      "image/png": "[encoded data removed]",
      "text/plain": [
       "<Figure size 640x480 with 1 Axes>"
      ]
     },
     "metadata": {},
     "output_type": "display_data"
    }
   ],
   "source": [
    "τ_E = 1000\n",
    "params_0 = parameters.copy()\n",
    "params_0['τ_E'] = τ_E\n",
    "x_test = []\n",
    "y_test = []\n",
    "k_test = []\n",
    "l_test = []\n",
    "import matplotlib.pyplot as plt\n",
    "\n",
    "for i in np.logspace(0.2,1.5,100):\n",
    "    params_0['γ'] = i\n",
    "    z_k,z_l = optimal_ratios(params_0,τ_E)\n",
    "    coef = function_coef(params_0['A_tilde'],params_0['α'],params_0['γ'],z_l,z_k,params_0['green_premium'],params_0['r_b'],params_0['τ_E'],params_0['w'],params_0['β'])\n",
    "    if ~np.isnan(coef):\n",
    "        x_test.append(i)\n",
    "        y_test.append(coef)\n",
    "# \n",
    "fig, ax1 = plt.subplots()\n",
    "\n",
    "ax1.scatter( x_test,y_test,color='g',label=False)\n",
    "# fig.legend(['z_k','z_l','Price'])\n",
    "plt.show()"
   ]
  },
  {
   "cell_type": "code",
   "execution_count": null,
   "id": "e38024d0",
   "metadata": {},
   "outputs": [],
   "source": []
  },
  {
   "cell_type": "code",
   "execution_count": 167,
   "id": "3bdb0d62",
   "metadata": {},
   "outputs": [
    {
     "name": "stdout",
     "output_type": "stream",
     "text": [
      "C_G: 0.03250359679419391\n",
      "C_B: 0.01863539549533783\n",
      "c_L: 1.1337234725274548\n",
      "C_E: 0.013417484756643235\n",
      "P:  14.978499369670372\n"
     ]
    }
   ],
   "source": [
    "def test_func(params_0):\n",
    "    z_k = function_z_k(params_0['α'],params_0['γ'],params_0['r_b'], params_0['green_premium'],params_0['τ_E'],params_0['A_tilde'])\n",
    "    z_l = function_z_l(z_k,params_0['β'],params_0['α'],params_0['γ'],params_0['w'],params_0['green_premium'],params_0['r_b'])\n",
    "    l = optimal_labor(params_0['A_tilde'],params_0['A_hat'],params_0['α'],params_0['γ'],z_l,z_k,params_0['β'],params_0['w'],params_0['green_premium'],params_0['r_b'],params_0['σ'],params_0['τ_E'])\n",
    "    y = production_function(params_0['A_hat'],params_0['β'],z_l,l)\n",
    "    p = function_price(params_0['A_tilde'],params_0['A_hat'],params_0['α'],params_0['γ'],z_l,z_k,params_0['β'],params_0['w'],params_0['green_premium'],params_0['r_b'],params_0['σ'],params_0['τ_E'])\n",
    "    C_G,C_B,c_L,C_E = function_price_detail(params_0['A_tilde'],params_0['A_hat'],params_0['α'],params_0['γ'],z_l,z_k,params_0['β'],params_0['w'],params_0['green_premium'],params_0['r_b'],params_0['σ'],params_0['τ_E'])\n",
    "    return z_k,z_l,l,y*1e3,p,C_G,C_B,c_L,C_E\n",
    "\n",
    "params_0 = params.copy()\n",
    "params_0['σ'] = 5\n",
    "params_0['w'] = params_0['w'] / 1e3\n",
    "params_0['τ_E'] = 20 * 1e2\n",
    "z_k,z_l,l,y,p,C_G,C_B,c_L,C_E = test_func(params_0)\n",
    "print(\"C_G:\", C_G)\n",
    "print(\"C_B:\", C_B)\n",
    "print(\"c_L:\", c_L)\n",
    "print(\"C_E:\", C_E)\n",
    "print(\"P: \",params_0['σ']/(params_0['σ']-1) * (C_G + C_B + c_L + C_E) / params_0['A_hat'])\n",
    "\n",
    "\n",
    "\n"
   ]
  }
 ],
 "metadata": {
  "kernelspec": {
   "display_name": "Python 3 (ipykernel)",
   "language": "python",
   "name": "python3"
  },
  "language_info": {
   "codemirror_mode": {
    "name": "ipython",
    "version": 3
   },
   "file_extension": ".py",
   "mimetype": "text/x-python",
   "name": "python",
   "nbconvert_exporter": "python",
   "pygments_lexer": "ipython3",
   "version": "3.11.4"
  }
 },
 "nbformat": 4,
 "nbformat_minor": 5
}
